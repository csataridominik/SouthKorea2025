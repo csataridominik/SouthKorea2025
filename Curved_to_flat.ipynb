{
  "nbformat": 4,
  "nbformat_minor": 0,
  "metadata": {
    "colab": {
      "provenance": [],
      "authorship_tag": "ABX9TyOP3xagQNQO/IBFWRh2jw5m",
      "include_colab_link": true
    },
    "kernelspec": {
      "name": "python3",
      "display_name": "Python 3"
    },
    "language_info": {
      "name": "python"
    }
  },
  "cells": [
    {
      "cell_type": "markdown",
      "metadata": {
        "id": "view-in-github",
        "colab_type": "text"
      },
      "source": [
        "<a href=\"https://colab.research.google.com/github/csataridominik/SouthKorea2025/blob/main/Curved_to_flat.ipynb\" target=\"_parent\"><img src=\"https://colab.research.google.com/assets/colab-badge.svg\" alt=\"Open In Colab\"/></a>"
      ]
    },
    {
      "cell_type": "code",
      "execution_count": 2,
      "metadata": {
        "id": "9wB0A1DV2ita"
      },
      "outputs": [],
      "source": [
        "from PIL import Image\n",
        "import matplotlib.pyplot as plt\n",
        "import numpy as np\n",
        "import scipy as sc\n",
        "import cv2\n",
        "import math as m"
      ]
    },
    {
      "cell_type": "code",
      "source": [
        "\n",
        "# Step 1: Load the image\n",
        "#image_path = \"C:\\\\Users\\\\buvr_\\\\Documents\\\\BUVR 2025.1\\\\transforming recordings\\\\samples\\\\sample_curved_cropped_01.png\"  # Replace with your image file path\n",
        "image_path = \"sample_curved_cropped_01.png\"\n",
        "image = Image.open(image_path)\n",
        "\n",
        "# Step 2: Convert to grayscale\n",
        "gray_image = image.convert(\"L\")  # \"L\" mode is for grayscale\n",
        "\n",
        "# Step 3: Convert to NumPy array\n",
        "gray_array = np.array(gray_image)\n"
      ],
      "metadata": {
        "id": "cP1notPB2qrC"
      },
      "execution_count": 3,
      "outputs": []
    },
    {
      "cell_type": "code",
      "source": [
        "\n",
        "a = b = False\n",
        "column = []\n",
        "for i in range(1230):\n",
        "    if gray_array[2][i] > 10:\n",
        "        a = True\n",
        "    else:\n",
        "        a = False\n",
        "    if a != b and a == False:\n",
        "        column.append(i)\n",
        "    b = a\n",
        "print('col ', column)\n",
        "\n",
        "a = b = False\n",
        "row = []\n",
        "for i in range(790):\n",
        "    if gray_array[i][2] > 10:\n",
        "        a = True\n",
        "    else:\n",
        "        a = False\n",
        "    if a != b and a == False:\n",
        "        row.append(i)\n",
        "    b = a\n",
        "print('row ', row)\n"
      ],
      "metadata": {
        "colab": {
          "base_uri": "https://localhost:8080/"
        },
        "id": "CF96tyGr28ko",
        "outputId": "c702861d-d07f-4deb-8a7a-8a1a2c2a9ed8"
      },
      "execution_count": 4,
      "outputs": [
        {
          "output_type": "stream",
          "name": "stdout",
          "text": [
            "col  [5, 114, 225, 334, 445, 555, 668, 779, 890, 1000, 1110, 1221]\n",
            "row  [18, 85, 168, 250, 343, 415, 500, 582, 665]\n"
          ]
        }
      ]
    },
    {
      "cell_type": "code",
      "source": [
        "print(gray_array.shape)\n",
        "\n",
        "row_cm = (row[-1]-row[1]) / (len(row)-2)\n",
        "column_cm = (column[-1]-column[1]) / (len(column)-2)\n",
        "height = row_cm\n",
        "length = column_cm\n",
        "print('row cm: ', row_cm, '; column cm: ', column_cm)\n",
        "\n",
        "print('column middle ', column[5])\n"
      ],
      "metadata": {
        "colab": {
          "base_uri": "https://localhost:8080/"
        },
        "id": "UPntZxXM3AZO",
        "outputId": "508b4272-d964-4a4b-849f-2b19583c5378"
      },
      "execution_count": 6,
      "outputs": [
        {
          "output_type": "stream",
          "name": "stdout",
          "text": [
            "(795, 1233)\n",
            "row cm:  82.85714285714286 ; column cm:  110.7\n",
            "column middle  555\n"
          ]
        }
      ]
    },
    {
      "cell_type": "code",
      "source": [
        "\n",
        "gray_row_sums = np.sum(gray_array, axis = 1)\n",
        "gray_row_id = np.where(gray_row_sums<1500)[0][0]\n",
        "\n",
        "\n",
        "temp = gray_array[gray_row_id:,6:].copy().astype(float) # kozep_vege eredetileg 10 volt\n",
        "temp[temp>200] = 0\n",
        "temp[temp<5] = 0\n",
        "temp[:100,:100] = 0\n",
        "temp[:100,-200:] = 0\n",
        "row_sums = np.sum(temp, axis = 1)\n",
        "\n",
        "row_id = np.where(row_sums>200)[0][0]\n",
        "column_ids = sc.signal.find_peaks(temp[row_id,:],distance=100)[0]\n",
        "cln = column_ids.copy()\n",
        "for i in range(len(column_ids)):\n",
        "    # kiszűrjük azokat a pontokat, amiket nem a megfelelő tartományban találtunk -> finomítani lehetne hogy csak 2 maradjon\n",
        "    if abs(column_ids[i]) > len(gray_array[0])*2/3:\n",
        "        cln = np.delete(column_ids, i)\n",
        "\n",
        "\n",
        "column_sums = np.sum(temp, axis = 0)\n",
        "###\n",
        "#plt.figure\n",
        "#plt.plot(column_sums)\n",
        "#plt.show()\n",
        "\n",
        "###\n",
        "#plt.figure\n",
        "#plt.plot(np.diff(row_sums))\n",
        "#plt.show()\n",
        "\n",
        "\n",
        "### csillaggal jelölni felső sarkokat\n",
        "#cln1 = cln.copy() ##\n",
        "#plt.imshow(temp>0)\n",
        "#plt.plot(cln,row_id*np.ones(cln.shape),'r*')\n",
        "#plt.show()\n",
        "\n",
        "#print(cln)\n",
        "\n",
        "\n",
        "\n",
        "gray_array_float = gray_array.astype(float)\n",
        "first = gray_array[:,1]\n",
        "conv_results = np.asarray([np.matmul(first.T,  gray_array_float[:,col]) for col in range(gray_array_float.shape[1])])\n",
        "###\n",
        "#plt.plot(conv_results)\n",
        "#plt.show()\n",
        "\n",
        "###\n",
        "#plt.imshow(gray_array>1)\n",
        "#plt.show()\n"
      ],
      "metadata": {
        "id": "74aZVrcd3EFN"
      },
      "execution_count": 7,
      "outputs": []
    }
  ]
}